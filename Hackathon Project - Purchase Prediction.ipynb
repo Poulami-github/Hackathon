{
 "cells": [
  {
   "cell_type": "code",
   "execution_count": 2,
   "id": "bb77e859",
   "metadata": {},
   "outputs": [],
   "source": [
    "import sklearn\n",
    "import pandas as pd\n",
    "import numpy as np\n",
    "import matplotlib.pyplot as plt\n",
    "from sklearn.model_selection import train_test_split\n",
    "from sklearn.metrics import accuracy_score, confusion_matrix, f1_score, classification_report\n",
    "from sklearn.preprocessing import StandardScaler\n",
    "from sklearn.svm import SVC\n",
    "from imblearn.over_sampling import SMOTE\n",
    "from imblearn.under_sampling import TomekLinks\n",
    "from sklearn.metrics import accuracy_score\n",
    "from sklearn.linear_model import LogisticRegression\n",
    "from sklearn import neighbors\n",
    "from sklearn.neighbors import LocalOutlierFactor\n",
    "from sklearn.ensemble import ExtraTreesClassifier\n",
    "from sklearn.model_selection import StratifiedKFold\n",
    "from sklearn.model_selection import cross_val_score\n",
    "from sklearn.metrics import fbeta_score, make_scorer\n",
    "import seaborn as sns\n",
    "from sklearn.utils.class_weight import compute_class_weight\n",
    "from sklearn.model_selection import GridSearchCV\n",
    "from sklearn.discriminant_analysis import LinearDiscriminantAnalysis\n",
    "from sklearn.neighbors import KNeighborsClassifier\n",
    "from sklearn.naive_bayes import GaussianNB\n",
    "from sklearn.tree import DecisionTreeClassifier\n",
    "from sklearn.svm import SVC\n",
    "from sklearn.ensemble import RandomForestClassifier\n",
    "from sklearn.metrics import plot_confusion_matrix\n",
    "import warnings\n",
    "warnings.filterwarnings('ignore')"
   ]
  },
  {
   "cell_type": "code",
   "execution_count": 3,
   "id": "53f1ec85",
   "metadata": {},
   "outputs": [],
   "source": [
    "# Read the training and test csv files and convert them to a dataframe each\n",
    "data = pd.read_csv('train.csv')\n",
    "data_test = pd.read_csv('test.csv')"
   ]
  },
  {
   "cell_type": "code",
   "execution_count": 4,
   "id": "c23ccbcc",
   "metadata": {},
   "outputs": [
    {
     "data": {
      "text/html": [
       "<div>\n",
       "<style scoped>\n",
       "    .dataframe tbody tr th:only-of-type {\n",
       "        vertical-align: middle;\n",
       "    }\n",
       "\n",
       "    .dataframe tbody tr th {\n",
       "        vertical-align: top;\n",
       "    }\n",
       "\n",
       "    .dataframe thead th {\n",
       "        text-align: right;\n",
       "    }\n",
       "</style>\n",
       "<table border=\"1\" class=\"dataframe\">\n",
       "  <thead>\n",
       "    <tr style=\"text-align: right;\">\n",
       "      <th></th>\n",
       "      <th>session_id</th>\n",
       "      <th>administrative</th>\n",
       "      <th>administrative_duration</th>\n",
       "      <th>informational</th>\n",
       "      <th>informational_duration</th>\n",
       "      <th>productrelated</th>\n",
       "      <th>productrelated_duration</th>\n",
       "      <th>bouncerates</th>\n",
       "      <th>exitrates</th>\n",
       "      <th>pagevalues</th>\n",
       "      <th>specialday</th>\n",
       "      <th>month</th>\n",
       "      <th>operatingsystems</th>\n",
       "      <th>browser</th>\n",
       "      <th>region</th>\n",
       "      <th>traffictype</th>\n",
       "      <th>visitortype</th>\n",
       "      <th>weekend</th>\n",
       "      <th>revenue</th>\n",
       "    </tr>\n",
       "  </thead>\n",
       "  <tbody>\n",
       "    <tr>\n",
       "      <th>0</th>\n",
       "      <td>139957</td>\n",
       "      <td>2</td>\n",
       "      <td>47.500000</td>\n",
       "      <td>0</td>\n",
       "      <td>0.0</td>\n",
       "      <td>19</td>\n",
       "      <td>1203.480714</td>\n",
       "      <td>0.000000</td>\n",
       "      <td>0.027421</td>\n",
       "      <td>6.748509</td>\n",
       "      <td>0.0</td>\n",
       "      <td>Nov</td>\n",
       "      <td>2</td>\n",
       "      <td>2</td>\n",
       "      <td>3</td>\n",
       "      <td>2</td>\n",
       "      <td>Returning_Visitor</td>\n",
       "      <td>False</td>\n",
       "      <td>0</td>\n",
       "    </tr>\n",
       "    <tr>\n",
       "      <th>1</th>\n",
       "      <td>496587</td>\n",
       "      <td>0</td>\n",
       "      <td>0.000000</td>\n",
       "      <td>0</td>\n",
       "      <td>0.0</td>\n",
       "      <td>7</td>\n",
       "      <td>152.000000</td>\n",
       "      <td>0.000000</td>\n",
       "      <td>0.033333</td>\n",
       "      <td>0.000000</td>\n",
       "      <td>0.0</td>\n",
       "      <td>Dec</td>\n",
       "      <td>3</td>\n",
       "      <td>2</td>\n",
       "      <td>6</td>\n",
       "      <td>3</td>\n",
       "      <td>Returning_Visitor</td>\n",
       "      <td>False</td>\n",
       "      <td>0</td>\n",
       "    </tr>\n",
       "    <tr>\n",
       "      <th>2</th>\n",
       "      <td>440268</td>\n",
       "      <td>7</td>\n",
       "      <td>206.500000</td>\n",
       "      <td>1</td>\n",
       "      <td>389.9</td>\n",
       "      <td>95</td>\n",
       "      <td>4415.889952</td>\n",
       "      <td>0.000133</td>\n",
       "      <td>0.033750</td>\n",
       "      <td>2.676062</td>\n",
       "      <td>0.0</td>\n",
       "      <td>Nov</td>\n",
       "      <td>2</td>\n",
       "      <td>2</td>\n",
       "      <td>1</td>\n",
       "      <td>20</td>\n",
       "      <td>Returning_Visitor</td>\n",
       "      <td>False</td>\n",
       "      <td>0</td>\n",
       "    </tr>\n",
       "    <tr>\n",
       "      <th>3</th>\n",
       "      <td>294672</td>\n",
       "      <td>1</td>\n",
       "      <td>18.258571</td>\n",
       "      <td>0</td>\n",
       "      <td>0.0</td>\n",
       "      <td>103</td>\n",
       "      <td>8305.048706</td>\n",
       "      <td>0.004871</td>\n",
       "      <td>0.034746</td>\n",
       "      <td>6.824908</td>\n",
       "      <td>0.0</td>\n",
       "      <td>Nov</td>\n",
       "      <td>2</td>\n",
       "      <td>2</td>\n",
       "      <td>1</td>\n",
       "      <td>2</td>\n",
       "      <td>Returning_Visitor</td>\n",
       "      <td>True</td>\n",
       "      <td>1</td>\n",
       "    </tr>\n",
       "    <tr>\n",
       "      <th>4</th>\n",
       "      <td>497475</td>\n",
       "      <td>0</td>\n",
       "      <td>0.000000</td>\n",
       "      <td>0</td>\n",
       "      <td>0.0</td>\n",
       "      <td>42</td>\n",
       "      <td>1305.108333</td>\n",
       "      <td>0.016068</td>\n",
       "      <td>0.039742</td>\n",
       "      <td>0.000000</td>\n",
       "      <td>0.0</td>\n",
       "      <td>Dec</td>\n",
       "      <td>3</td>\n",
       "      <td>2</td>\n",
       "      <td>5</td>\n",
       "      <td>2</td>\n",
       "      <td>Returning_Visitor</td>\n",
       "      <td>False</td>\n",
       "      <td>0</td>\n",
       "    </tr>\n",
       "  </tbody>\n",
       "</table>\n",
       "</div>"
      ],
      "text/plain": [
       "   session_id  administrative  administrative_duration  informational  \\\n",
       "0      139957               2                47.500000              0   \n",
       "1      496587               0                 0.000000              0   \n",
       "2      440268               7               206.500000              1   \n",
       "3      294672               1                18.258571              0   \n",
       "4      497475               0                 0.000000              0   \n",
       "\n",
       "   informational_duration  productrelated  productrelated_duration  \\\n",
       "0                     0.0              19              1203.480714   \n",
       "1                     0.0               7               152.000000   \n",
       "2                   389.9              95              4415.889952   \n",
       "3                     0.0             103              8305.048706   \n",
       "4                     0.0              42              1305.108333   \n",
       "\n",
       "   bouncerates  exitrates  pagevalues  specialday month operatingsystems  \\\n",
       "0     0.000000   0.027421    6.748509         0.0   Nov                2   \n",
       "1     0.000000   0.033333    0.000000         0.0   Dec                3   \n",
       "2     0.000133   0.033750    2.676062         0.0   Nov                2   \n",
       "3     0.004871   0.034746    6.824908         0.0   Nov                2   \n",
       "4     0.016068   0.039742    0.000000         0.0   Dec                3   \n",
       "\n",
       "  browser  region traffictype        visitortype  weekend  revenue  \n",
       "0       2       3           2  Returning_Visitor    False        0  \n",
       "1       2       6           3  Returning_Visitor    False        0  \n",
       "2       2       1          20  Returning_Visitor    False        0  \n",
       "3       2       1           2  Returning_Visitor     True        1  \n",
       "4       2       5           2  Returning_Visitor    False        0  "
      ]
     },
     "execution_count": 4,
     "metadata": {},
     "output_type": "execute_result"
    }
   ],
   "source": [
    "data.head()"
   ]
  },
  {
   "cell_type": "code",
   "execution_count": 5,
   "id": "984fe3db",
   "metadata": {},
   "outputs": [
    {
     "data": {
      "text/plain": [
       "(40000, 19)"
      ]
     },
     "execution_count": 5,
     "metadata": {},
     "output_type": "execute_result"
    }
   ],
   "source": [
    "data.shape"
   ]
  },
  {
   "cell_type": "code",
   "execution_count": 6,
   "id": "ca31f377",
   "metadata": {},
   "outputs": [
    {
     "data": {
      "text/html": [
       "<div>\n",
       "<style scoped>\n",
       "    .dataframe tbody tr th:only-of-type {\n",
       "        vertical-align: middle;\n",
       "    }\n",
       "\n",
       "    .dataframe tbody tr th {\n",
       "        vertical-align: top;\n",
       "    }\n",
       "\n",
       "    .dataframe thead th {\n",
       "        text-align: right;\n",
       "    }\n",
       "</style>\n",
       "<table border=\"1\" class=\"dataframe\">\n",
       "  <thead>\n",
       "    <tr style=\"text-align: right;\">\n",
       "      <th></th>\n",
       "      <th>session_id</th>\n",
       "      <th>administrative</th>\n",
       "      <th>administrative_duration</th>\n",
       "      <th>informational</th>\n",
       "      <th>informational_duration</th>\n",
       "      <th>productrelated</th>\n",
       "      <th>productrelated_duration</th>\n",
       "      <th>bouncerates</th>\n",
       "      <th>exitrates</th>\n",
       "      <th>pagevalues</th>\n",
       "      <th>specialday</th>\n",
       "      <th>month</th>\n",
       "      <th>operatingsystems</th>\n",
       "      <th>browser</th>\n",
       "      <th>region</th>\n",
       "      <th>traffictype</th>\n",
       "      <th>visitortype</th>\n",
       "      <th>weekend</th>\n",
       "    </tr>\n",
       "  </thead>\n",
       "  <tbody>\n",
       "    <tr>\n",
       "      <th>0</th>\n",
       "      <td>283149</td>\n",
       "      <td>0</td>\n",
       "      <td>0.0</td>\n",
       "      <td>0</td>\n",
       "      <td>0.0</td>\n",
       "      <td>10</td>\n",
       "      <td>388.000000</td>\n",
       "      <td>0.000000</td>\n",
       "      <td>0.014286</td>\n",
       "      <td>0.0</td>\n",
       "      <td>0.0</td>\n",
       "      <td>Nov</td>\n",
       "      <td>1</td>\n",
       "      <td>2</td>\n",
       "      <td>8</td>\n",
       "      <td>2</td>\n",
       "      <td>New_Visitor</td>\n",
       "      <td>False</td>\n",
       "    </tr>\n",
       "    <tr>\n",
       "      <th>1</th>\n",
       "      <td>253020</td>\n",
       "      <td>0</td>\n",
       "      <td>0.0</td>\n",
       "      <td>0</td>\n",
       "      <td>0.0</td>\n",
       "      <td>17</td>\n",
       "      <td>142.400000</td>\n",
       "      <td>0.017707</td>\n",
       "      <td>0.044623</td>\n",
       "      <td>0.0</td>\n",
       "      <td>0.0</td>\n",
       "      <td>Nov</td>\n",
       "      <td>1</td>\n",
       "      <td>2</td>\n",
       "      <td>3</td>\n",
       "      <td>8</td>\n",
       "      <td>New_Visitor</td>\n",
       "      <td>False</td>\n",
       "    </tr>\n",
       "    <tr>\n",
       "      <th>2</th>\n",
       "      <td>348435</td>\n",
       "      <td>0</td>\n",
       "      <td>0.0</td>\n",
       "      <td>0</td>\n",
       "      <td>0.0</td>\n",
       "      <td>47</td>\n",
       "      <td>1683.733333</td>\n",
       "      <td>0.020556</td>\n",
       "      <td>0.026367</td>\n",
       "      <td>0.0</td>\n",
       "      <td>0.0</td>\n",
       "      <td>Mar</td>\n",
       "      <td>2</td>\n",
       "      <td>5</td>\n",
       "      <td>9</td>\n",
       "      <td>1</td>\n",
       "      <td>Returning_Visitor</td>\n",
       "      <td>False</td>\n",
       "    </tr>\n",
       "    <tr>\n",
       "      <th>3</th>\n",
       "      <td>299763</td>\n",
       "      <td>0</td>\n",
       "      <td>0.0</td>\n",
       "      <td>1</td>\n",
       "      <td>904.0</td>\n",
       "      <td>33</td>\n",
       "      <td>543.433333</td>\n",
       "      <td>0.000000</td>\n",
       "      <td>0.015713</td>\n",
       "      <td>0.0</td>\n",
       "      <td>0.0</td>\n",
       "      <td>Nov</td>\n",
       "      <td>2</td>\n",
       "      <td>2</td>\n",
       "      <td>3</td>\n",
       "      <td>11</td>\n",
       "      <td>Returning_Visitor</td>\n",
       "      <td>True</td>\n",
       "    </tr>\n",
       "    <tr>\n",
       "      <th>4</th>\n",
       "      <td>195120</td>\n",
       "      <td>0</td>\n",
       "      <td>0.0</td>\n",
       "      <td>2</td>\n",
       "      <td>17.0</td>\n",
       "      <td>4</td>\n",
       "      <td>0.000000</td>\n",
       "      <td>0.200000</td>\n",
       "      <td>0.200000</td>\n",
       "      <td>0.0</td>\n",
       "      <td>0.0</td>\n",
       "      <td>Mar</td>\n",
       "      <td>2</td>\n",
       "      <td>4</td>\n",
       "      <td>6</td>\n",
       "      <td>1</td>\n",
       "      <td>Returning_Visitor</td>\n",
       "      <td>True</td>\n",
       "    </tr>\n",
       "  </tbody>\n",
       "</table>\n",
       "</div>"
      ],
      "text/plain": [
       "   session_id  administrative  administrative_duration  informational  \\\n",
       "0      283149               0                      0.0              0   \n",
       "1      253020               0                      0.0              0   \n",
       "2      348435               0                      0.0              0   \n",
       "3      299763               0                      0.0              1   \n",
       "4      195120               0                      0.0              2   \n",
       "\n",
       "   informational_duration  productrelated  productrelated_duration  \\\n",
       "0                     0.0              10               388.000000   \n",
       "1                     0.0              17               142.400000   \n",
       "2                     0.0              47              1683.733333   \n",
       "3                   904.0              33               543.433333   \n",
       "4                    17.0               4                 0.000000   \n",
       "\n",
       "   bouncerates  exitrates  pagevalues  specialday month operatingsystems  \\\n",
       "0     0.000000   0.014286         0.0         0.0   Nov                1   \n",
       "1     0.017707   0.044623         0.0         0.0   Nov                1   \n",
       "2     0.020556   0.026367         0.0         0.0   Mar                2   \n",
       "3     0.000000   0.015713         0.0         0.0   Nov                2   \n",
       "4     0.200000   0.200000         0.0         0.0   Mar                2   \n",
       "\n",
       "  browser  region traffictype        visitortype  weekend  \n",
       "0       2       8           2        New_Visitor    False  \n",
       "1       2       3           8        New_Visitor    False  \n",
       "2       5       9           1  Returning_Visitor    False  \n",
       "3       2       3          11  Returning_Visitor     True  \n",
       "4       4       6           1  Returning_Visitor     True  "
      ]
     },
     "execution_count": 6,
     "metadata": {},
     "output_type": "execute_result"
    }
   ],
   "source": [
    "data_test.head()"
   ]
  },
  {
   "cell_type": "code",
   "execution_count": 7,
   "id": "e347a58d",
   "metadata": {},
   "outputs": [
    {
     "data": {
      "text/plain": [
       "(10000, 18)"
      ]
     },
     "execution_count": 7,
     "metadata": {},
     "output_type": "execute_result"
    }
   ],
   "source": [
    "data_test.shape"
   ]
  },
  {
   "cell_type": "code",
   "execution_count": 9,
   "id": "52d5852b",
   "metadata": {},
   "outputs": [
    {
     "data": {
      "text/plain": [
       "0    33669\n",
       "1     6331\n",
       "Name: revenue, dtype: int64"
      ]
     },
     "execution_count": 9,
     "metadata": {},
     "output_type": "execute_result"
    }
   ],
   "source": [
    "data['revenue'].value_counts()"
   ]
  },
  {
   "cell_type": "markdown",
   "id": "41bb59dc",
   "metadata": {},
   "source": [
    "#### Visualizing the imbalance"
   ]
  },
  {
   "cell_type": "code",
   "execution_count": 10,
   "id": "7af600aa",
   "metadata": {},
   "outputs": [
    {
     "data": {
      "text/plain": [
       "<AxesSubplot:xlabel='revenue', ylabel='count'>"
      ]
     },
     "execution_count": 10,
     "metadata": {},
     "output_type": "execute_result"
    },
    {
     "data": {
      "image/png": "[encoded data removed]",
      "text/plain": [
       "<Figure size 432x288 with 1 Axes>"
      ]
     },
     "metadata": {
      "needs_background": "light"
     },
     "output_type": "display_data"
    }
   ],
   "source": [
    "sns.countplot(data['revenue'])"
   ]
  },
  {
   "cell_type": "code",
   "execution_count": 11,
   "id": "59a5a6d0",
   "metadata": {},
   "outputs": [
    {
     "data": {
      "text/plain": [
       "session_id                 0\n",
       "administrative             0\n",
       "administrative_duration    0\n",
       "informational              0\n",
       "informational_duration     0\n",
       "productrelated             0\n",
       "productrelated_duration    0\n",
       "bouncerates                0\n",
       "exitrates                  0\n",
       "pagevalues                 0\n",
       "specialday                 0\n",
       "month                      0\n",
       "operatingsystems           0\n",
       "browser                    0\n",
       "region                     0\n",
       "traffictype                0\n",
       "visitortype                0\n",
       "weekend                    0\n",
       "revenue                    0\n",
       "dtype: int64"
      ]
     },
     "execution_count": 11,
     "metadata": {},
     "output_type": "execute_result"
    }
   ],
   "source": [
    "data.isna().sum()"
   ]
  },
  {
   "cell_type": "markdown",
   "id": "8221af12",
   "metadata": {},
   "source": [
    "#### Cleaning training data"
   ]
  },
  {
   "cell_type": "code",
   "execution_count": 12,
   "id": "3819fb0c",
   "metadata": {},
   "outputs": [],
   "source": [
    "# Replace special character * from columns traffictype, browser, operatingsystems\n",
    "data['traffictype'] = data['traffictype'].replace(\"*\", 2)\n",
    "data['traffictype'] = pd.to_numeric(data['traffictype'])\n",
    "data['browser'] = data['browser'].replace(\"*\", 2)\n",
    "data['browser'] = pd.to_numeric(data['browser'])\n",
    "data['operatingsystems'] = data['operatingsystems'].replace(\"*\", 2)\n",
    "data['operatingsystems'] = pd.to_numeric(data['operatingsystems'])\n",
    "\n",
    "# Convert the column - weekend to integer from boolean value\n",
    "data['weekend'] = data['weekend'].astype(int)\n",
    "\n",
    "# Convert the categorical column month to numeric representation of months.\n",
    "d = dict((v,k) for k,v in zip(range(1, 13), data.month.unique()))\n",
    "# create column\n",
    "data['month'] = data['month'].map(d)"
   ]
  },
  {
   "cell_type": "code",
   "execution_count": 13,
   "id": "e8489bd0",
   "metadata": {},
   "outputs": [],
   "source": [
    "# The feature columns are derived in X and the target column revenue is derived in y.\n",
    "X = data.drop(columns=['revenue']).copy()\n",
    "y = data['revenue'].copy()\n",
    "x_en = pd.get_dummies(X)"
   ]
  },
  {
   "cell_type": "markdown",
   "id": "337cd873",
   "metadata": {},
   "source": [
    "#### Cleaning testing data"
   ]
  },
  {
   "cell_type": "code",
   "execution_count": 29,
   "id": "5f95f3a1",
   "metadata": {},
   "outputs": [],
   "source": [
    "data_test['traffictype'] = data_test['traffictype'].replace(\"*\", 4)\n",
    "data_test['traffictype'] = pd.to_numeric(data_test['traffictype'])\n",
    "data_test['browser'] = data_test['browser'].replace(\"*\", 2)\n",
    "data_test['browser'] = pd.to_numeric(data_test['browser'])\n",
    "data_test['operatingsystems'] = data_test['operatingsystems'].replace(\"*\", 2)\n",
    "data_test['operatingsystems'] = pd.to_numeric(data_test['operatingsystems'])\n",
    "data_test['weekend'] = data_test['weekend'].astype(int)\n",
    "data_test.month.value_counts()\n",
    "d = dict((v,k) for k,v in zip(range(1, 13), data_test.month.unique()))\n",
    "# create column\n",
    "data_test['month'] = data_test['month'].map(d)"
   ]
  },
  {
   "cell_type": "code",
   "execution_count": 30,
   "id": "982a2853",
   "metadata": {},
   "outputs": [
    {
     "data": {
      "text/html": [
       "<div>\n",
       "<style scoped>\n",
       "    .dataframe tbody tr th:only-of-type {\n",
       "        vertical-align: middle;\n",
       "    }\n",
       "\n",
       "    .dataframe tbody tr th {\n",
       "        vertical-align: top;\n",
       "    }\n",
       "\n",
       "    .dataframe thead th {\n",
       "        text-align: right;\n",
       "    }\n",
       "</style>\n",
       "<table border=\"1\" class=\"dataframe\">\n",
       "  <thead>\n",
       "    <tr style=\"text-align: right;\">\n",
       "      <th></th>\n",
       "      <th>administrative</th>\n",
       "      <th>productrelated</th>\n",
       "      <th>productrelated_duration</th>\n",
       "      <th>bouncerates</th>\n",
       "      <th>exitrates</th>\n",
       "      <th>pagevalues</th>\n",
       "      <th>weekend</th>\n",
       "      <th>visitortype_New_Visitor</th>\n",
       "      <th>visitortype_Returning_Visitor</th>\n",
       "    </tr>\n",
       "  </thead>\n",
       "  <tbody>\n",
       "    <tr>\n",
       "      <th>0</th>\n",
       "      <td>0</td>\n",
       "      <td>10</td>\n",
       "      <td>388.000000</td>\n",
       "      <td>0.000000</td>\n",
       "      <td>0.014286</td>\n",
       "      <td>0.000000</td>\n",
       "      <td>0</td>\n",
       "      <td>1</td>\n",
       "      <td>0</td>\n",
       "    </tr>\n",
       "    <tr>\n",
       "      <th>1</th>\n",
       "      <td>0</td>\n",
       "      <td>17</td>\n",
       "      <td>142.400000</td>\n",
       "      <td>0.017707</td>\n",
       "      <td>0.044623</td>\n",
       "      <td>0.000000</td>\n",
       "      <td>0</td>\n",
       "      <td>1</td>\n",
       "      <td>0</td>\n",
       "    </tr>\n",
       "    <tr>\n",
       "      <th>2</th>\n",
       "      <td>0</td>\n",
       "      <td>47</td>\n",
       "      <td>1683.733333</td>\n",
       "      <td>0.020556</td>\n",
       "      <td>0.026367</td>\n",
       "      <td>0.000000</td>\n",
       "      <td>0</td>\n",
       "      <td>0</td>\n",
       "      <td>1</td>\n",
       "    </tr>\n",
       "    <tr>\n",
       "      <th>3</th>\n",
       "      <td>0</td>\n",
       "      <td>33</td>\n",
       "      <td>543.433333</td>\n",
       "      <td>0.000000</td>\n",
       "      <td>0.015713</td>\n",
       "      <td>0.000000</td>\n",
       "      <td>1</td>\n",
       "      <td>0</td>\n",
       "      <td>1</td>\n",
       "    </tr>\n",
       "    <tr>\n",
       "      <th>4</th>\n",
       "      <td>0</td>\n",
       "      <td>4</td>\n",
       "      <td>0.000000</td>\n",
       "      <td>0.200000</td>\n",
       "      <td>0.200000</td>\n",
       "      <td>0.000000</td>\n",
       "      <td>1</td>\n",
       "      <td>0</td>\n",
       "      <td>1</td>\n",
       "    </tr>\n",
       "    <tr>\n",
       "      <th>...</th>\n",
       "      <td>...</td>\n",
       "      <td>...</td>\n",
       "      <td>...</td>\n",
       "      <td>...</td>\n",
       "      <td>...</td>\n",
       "      <td>...</td>\n",
       "      <td>...</td>\n",
       "      <td>...</td>\n",
       "      <td>...</td>\n",
       "    </tr>\n",
       "    <tr>\n",
       "      <th>9995</th>\n",
       "      <td>7</td>\n",
       "      <td>161</td>\n",
       "      <td>3747.054690</td>\n",
       "      <td>0.001341</td>\n",
       "      <td>0.024272</td>\n",
       "      <td>15.250582</td>\n",
       "      <td>0</td>\n",
       "      <td>0</td>\n",
       "      <td>1</td>\n",
       "    </tr>\n",
       "    <tr>\n",
       "      <th>9996</th>\n",
       "      <td>0</td>\n",
       "      <td>7</td>\n",
       "      <td>801.000000</td>\n",
       "      <td>0.000000</td>\n",
       "      <td>0.022222</td>\n",
       "      <td>0.000000</td>\n",
       "      <td>0</td>\n",
       "      <td>1</td>\n",
       "      <td>0</td>\n",
       "    </tr>\n",
       "    <tr>\n",
       "      <th>9997</th>\n",
       "      <td>0</td>\n",
       "      <td>8</td>\n",
       "      <td>203.500000</td>\n",
       "      <td>0.000000</td>\n",
       "      <td>0.040000</td>\n",
       "      <td>0.000000</td>\n",
       "      <td>1</td>\n",
       "      <td>0</td>\n",
       "      <td>1</td>\n",
       "    </tr>\n",
       "    <tr>\n",
       "      <th>9998</th>\n",
       "      <td>0</td>\n",
       "      <td>9</td>\n",
       "      <td>202.500000</td>\n",
       "      <td>0.000000</td>\n",
       "      <td>0.007509</td>\n",
       "      <td>0.000000</td>\n",
       "      <td>0</td>\n",
       "      <td>1</td>\n",
       "      <td>0</td>\n",
       "    </tr>\n",
       "    <tr>\n",
       "      <th>9999</th>\n",
       "      <td>7</td>\n",
       "      <td>80</td>\n",
       "      <td>2147.616667</td>\n",
       "      <td>0.007362</td>\n",
       "      <td>0.022903</td>\n",
       "      <td>0.000000</td>\n",
       "      <td>1</td>\n",
       "      <td>0</td>\n",
       "      <td>1</td>\n",
       "    </tr>\n",
       "  </tbody>\n",
       "</table>\n",
       "<p>10000 rows × 9 columns</p>\n",
       "</div>"
      ],
      "text/plain": [
       "      administrative  productrelated  productrelated_duration  bouncerates  \\\n",
       "0                  0              10               388.000000     0.000000   \n",
       "1                  0              17               142.400000     0.017707   \n",
       "2                  0              47              1683.733333     0.020556   \n",
       "3                  0              33               543.433333     0.000000   \n",
       "4                  0               4                 0.000000     0.200000   \n",
       "...              ...             ...                      ...          ...   \n",
       "9995               7             161              3747.054690     0.001341   \n",
       "9996               0               7               801.000000     0.000000   \n",
       "9997               0               8               203.500000     0.000000   \n",
       "9998               0               9               202.500000     0.000000   \n",
       "9999               7              80              2147.616667     0.007362   \n",
       "\n",
       "      exitrates  pagevalues  weekend  visitortype_New_Visitor  \\\n",
       "0      0.014286    0.000000        0                        1   \n",
       "1      0.044623    0.000000        0                        1   \n",
       "2      0.026367    0.000000        0                        0   \n",
       "3      0.015713    0.000000        1                        0   \n",
       "4      0.200000    0.000000        1                        0   \n",
       "...         ...         ...      ...                      ...   \n",
       "9995   0.024272   15.250582        0                        0   \n",
       "9996   0.022222    0.000000        0                        1   \n",
       "9997   0.040000    0.000000        1                        0   \n",
       "9998   0.007509    0.000000        0                        1   \n",
       "9999   0.022903    0.000000        1                        0   \n",
       "\n",
       "      visitortype_Returning_Visitor  \n",
       "0                                 0  \n",
       "1                                 0  \n",
       "2                                 1  \n",
       "3                                 1  \n",
       "4                                 1  \n",
       "...                             ...  \n",
       "9995                              1  \n",
       "9996                              0  \n",
       "9997                              1  \n",
       "9998                              0  \n",
       "9999                              1  \n",
       "\n",
       "[10000 rows x 9 columns]"
      ]
     },
     "execution_count": 30,
     "metadata": {},
     "output_type": "execute_result"
    }
   ],
   "source": [
    "x_test = pd.get_dummies(data_test)\n",
    "\n",
    "feature_selected= ['administrative', 'productrelated', 'productrelated_duration', 'bouncerates', 'exitrates', 'pagevalues', 'weekend', 'visitortype_New_Visitor', 'visitortype_Returning_Visitor']\n",
    "x_test=x_test[feature_selected]\n",
    "x_test"
   ]
  },
  {
   "cell_type": "markdown",
   "id": "804c8250",
   "metadata": {},
   "source": [
    "### Anomaly Detection Example with Local Outlier Factor in Python:\n",
    "\n",
    "#### The Local Outlier Factor is an algorithm to detect anomalies in observation data. Measuring the local density score of each sample and weighting their scores are the main concept of the algorithm. By comparing the score of the sample to its neighbors, the algorithm defines the lower density elements as anomalies in data."
   ]
  },
  {
   "cell_type": "code",
   "execution_count": 14,
   "id": "a20c7eac",
   "metadata": {},
   "outputs": [
    {
     "name": "stdout",
     "output_type": "stream",
     "text": [
      "(38973, 20) (38973,)\n"
     ]
    }
   ],
   "source": [
    "from sklearn.neighbors import LocalOutlierFactor\n",
    "from sklearn.datasets import make_blobs\n",
    "from numpy import quantile, where, random\n",
    "import matplotlib.pyplot as plt\n",
    "\n",
    "\n",
    "lof = LocalOutlierFactor()\n",
    "yhat = lof.fit_predict(x_en.to_numpy())\n",
    "mask=yhat!=-1\n",
    "x=x_en.to_numpy()[mask, :]\n",
    "x=pd.DataFrame(x, columns=x_en.columns)\n",
    "y=y[mask]\n",
    "print(x.shape, y.shape)"
   ]
  },
  {
   "cell_type": "markdown",
   "id": "4ebb134b",
   "metadata": {},
   "source": [
    "#### Apply an oversampling+undersampling method to balance this imbalanced dataset."
   ]
  },
  {
   "cell_type": "code",
   "execution_count": 15,
   "id": "a91ea801",
   "metadata": {},
   "outputs": [],
   "source": [
    "# Using Oversampling\n",
    "oversample = SMOTE(random_state = 0)\n",
    "X_os, y_os = oversample.fit_resample(x, y)"
   ]
  },
  {
   "cell_type": "code",
   "execution_count": 16,
   "id": "7b28b0b5",
   "metadata": {},
   "outputs": [],
   "source": [
    "# define the undersampling method\n",
    "undersample = TomekLinks()\n",
    "\n",
    "# transform the dataset\n",
    "X_train, y_train = undersample.fit_resample(X_os, y_os)"
   ]
  },
  {
   "cell_type": "markdown",
   "id": "ccdbf5de",
   "metadata": {},
   "source": [
    "#### Feature Importance with ExtraTrees"
   ]
  },
  {
   "cell_type": "code",
   "execution_count": 17,
   "id": "76cf0131",
   "metadata": {},
   "outputs": [
    {
     "name": "stdout",
     "output_type": "stream",
     "text": [
      "[0.02368263 0.04692298 0.0317588  0.02500649 0.0165333  0.03984136\n",
      " 0.04132324 0.04000732 0.05678871 0.37564048 0.01097575 0.03727821\n",
      " 0.02526973 0.02086668 0.03200843 0.02827637 0.05562219 0.04489005\n",
      " 0.00139303 0.04591427]\n"
     ]
    }
   ],
   "source": [
    "model_featureImportance = ExtraTreesClassifier()\n",
    "model_featureImportance.fit(X_train, y_train)\n",
    "print(model_featureImportance.feature_importances_)"
   ]
  },
  {
   "cell_type": "code",
   "execution_count": 19,
   "id": "263a219b",
   "metadata": {},
   "outputs": [
    {
     "data": {
      "image/png": "[encoded data removed]",
      "text/plain": [
       "<Figure size 1440x720 with 1 Axes>"
      ]
     },
     "metadata": {},
     "output_type": "display_data"
    }
   ],
   "source": [
    "score=model_featureImportance.feature_importances_\n",
    "name=X_train.columns\n",
    "fig=plt.figure(figsize=(20,10),facecolor='gainsboro')\n",
    "fig.suptitle('Feature Importance')\n",
    "ax=fig.add_subplot(111)\n",
    "plt.bar(x=name,height=score,color='lightgrey',edgecolor='cyan')\n",
    "plt.xticks(rotation=30, ha='right')\n",
    "plt.show()"
   ]
  },
  {
   "cell_type": "code",
   "execution_count": 20,
   "id": "3781ac12",
   "metadata": {},
   "outputs": [
    {
     "data": {
      "text/html": [
       "<div>\n",
       "<style scoped>\n",
       "    .dataframe tbody tr th:only-of-type {\n",
       "        vertical-align: middle;\n",
       "    }\n",
       "\n",
       "    .dataframe tbody tr th {\n",
       "        vertical-align: top;\n",
       "    }\n",
       "\n",
       "    .dataframe thead th {\n",
       "        text-align: right;\n",
       "    }\n",
       "</style>\n",
       "<table border=\"1\" class=\"dataframe\">\n",
       "  <thead>\n",
       "    <tr style=\"text-align: right;\">\n",
       "      <th></th>\n",
       "      <th>administrative</th>\n",
       "      <th>productrelated</th>\n",
       "      <th>productrelated_duration</th>\n",
       "      <th>bouncerates</th>\n",
       "      <th>exitrates</th>\n",
       "      <th>pagevalues</th>\n",
       "      <th>weekend</th>\n",
       "      <th>visitortype_New_Visitor</th>\n",
       "      <th>visitortype_Returning_Visitor</th>\n",
       "    </tr>\n",
       "  </thead>\n",
       "  <tbody>\n",
       "    <tr>\n",
       "      <th>0</th>\n",
       "      <td>2.000000</td>\n",
       "      <td>19.000000</td>\n",
       "      <td>1203.480714</td>\n",
       "      <td>0.000000</td>\n",
       "      <td>0.027421</td>\n",
       "      <td>6.748509</td>\n",
       "      <td>0.000000</td>\n",
       "      <td>0.000000</td>\n",
       "      <td>1.000000</td>\n",
       "    </tr>\n",
       "    <tr>\n",
       "      <th>1</th>\n",
       "      <td>0.000000</td>\n",
       "      <td>7.000000</td>\n",
       "      <td>152.000000</td>\n",
       "      <td>0.000000</td>\n",
       "      <td>0.033333</td>\n",
       "      <td>0.000000</td>\n",
       "      <td>0.000000</td>\n",
       "      <td>0.000000</td>\n",
       "      <td>1.000000</td>\n",
       "    </tr>\n",
       "    <tr>\n",
       "      <th>2</th>\n",
       "      <td>7.000000</td>\n",
       "      <td>95.000000</td>\n",
       "      <td>4415.889952</td>\n",
       "      <td>0.000133</td>\n",
       "      <td>0.033750</td>\n",
       "      <td>2.676062</td>\n",
       "      <td>0.000000</td>\n",
       "      <td>0.000000</td>\n",
       "      <td>1.000000</td>\n",
       "    </tr>\n",
       "    <tr>\n",
       "      <th>3</th>\n",
       "      <td>1.000000</td>\n",
       "      <td>103.000000</td>\n",
       "      <td>8305.048706</td>\n",
       "      <td>0.004871</td>\n",
       "      <td>0.034746</td>\n",
       "      <td>6.824908</td>\n",
       "      <td>1.000000</td>\n",
       "      <td>0.000000</td>\n",
       "      <td>1.000000</td>\n",
       "    </tr>\n",
       "    <tr>\n",
       "      <th>4</th>\n",
       "      <td>0.000000</td>\n",
       "      <td>42.000000</td>\n",
       "      <td>1305.108333</td>\n",
       "      <td>0.016068</td>\n",
       "      <td>0.039742</td>\n",
       "      <td>0.000000</td>\n",
       "      <td>0.000000</td>\n",
       "      <td>0.000000</td>\n",
       "      <td>1.000000</td>\n",
       "    </tr>\n",
       "    <tr>\n",
       "      <th>...</th>\n",
       "      <td>...</td>\n",
       "      <td>...</td>\n",
       "      <td>...</td>\n",
       "      <td>...</td>\n",
       "      <td>...</td>\n",
       "      <td>...</td>\n",
       "      <td>...</td>\n",
       "      <td>...</td>\n",
       "      <td>...</td>\n",
       "    </tr>\n",
       "    <tr>\n",
       "      <th>63842</th>\n",
       "      <td>3.200093</td>\n",
       "      <td>43.198705</td>\n",
       "      <td>1121.170734</td>\n",
       "      <td>0.006125</td>\n",
       "      <td>0.029711</td>\n",
       "      <td>12.990264</td>\n",
       "      <td>1.000000</td>\n",
       "      <td>0.000000</td>\n",
       "      <td>1.000000</td>\n",
       "    </tr>\n",
       "    <tr>\n",
       "      <th>63843</th>\n",
       "      <td>1.865541</td>\n",
       "      <td>15.075670</td>\n",
       "      <td>382.118873</td>\n",
       "      <td>0.012437</td>\n",
       "      <td>0.032281</td>\n",
       "      <td>22.241373</td>\n",
       "      <td>0.000000</td>\n",
       "      <td>0.000000</td>\n",
       "      <td>1.000000</td>\n",
       "    </tr>\n",
       "    <tr>\n",
       "      <th>63844</th>\n",
       "      <td>1.462520</td>\n",
       "      <td>91.946969</td>\n",
       "      <td>4538.860988</td>\n",
       "      <td>0.001545</td>\n",
       "      <td>0.010678</td>\n",
       "      <td>4.350457</td>\n",
       "      <td>0.817185</td>\n",
       "      <td>0.000000</td>\n",
       "      <td>1.000000</td>\n",
       "    </tr>\n",
       "    <tr>\n",
       "      <th>63845</th>\n",
       "      <td>0.000000</td>\n",
       "      <td>17.000000</td>\n",
       "      <td>478.809144</td>\n",
       "      <td>0.000000</td>\n",
       "      <td>0.012092</td>\n",
       "      <td>33.153517</td>\n",
       "      <td>0.589289</td>\n",
       "      <td>0.000000</td>\n",
       "      <td>1.000000</td>\n",
       "    </tr>\n",
       "    <tr>\n",
       "      <th>63846</th>\n",
       "      <td>1.393134</td>\n",
       "      <td>27.860687</td>\n",
       "      <td>365.632742</td>\n",
       "      <td>0.045087</td>\n",
       "      <td>0.019281</td>\n",
       "      <td>73.590030</td>\n",
       "      <td>0.000000</td>\n",
       "      <td>0.139313</td>\n",
       "      <td>0.860687</td>\n",
       "    </tr>\n",
       "  </tbody>\n",
       "</table>\n",
       "<p>63847 rows × 9 columns</p>\n",
       "</div>"
      ],
      "text/plain": [
       "       administrative  productrelated  productrelated_duration  bouncerates  \\\n",
       "0            2.000000       19.000000              1203.480714     0.000000   \n",
       "1            0.000000        7.000000               152.000000     0.000000   \n",
       "2            7.000000       95.000000              4415.889952     0.000133   \n",
       "3            1.000000      103.000000              8305.048706     0.004871   \n",
       "4            0.000000       42.000000              1305.108333     0.016068   \n",
       "...               ...             ...                      ...          ...   \n",
       "63842        3.200093       43.198705              1121.170734     0.006125   \n",
       "63843        1.865541       15.075670               382.118873     0.012437   \n",
       "63844        1.462520       91.946969              4538.860988     0.001545   \n",
       "63845        0.000000       17.000000               478.809144     0.000000   \n",
       "63846        1.393134       27.860687               365.632742     0.045087   \n",
       "\n",
       "       exitrates  pagevalues   weekend  visitortype_New_Visitor  \\\n",
       "0       0.027421    6.748509  0.000000                 0.000000   \n",
       "1       0.033333    0.000000  0.000000                 0.000000   \n",
       "2       0.033750    2.676062  0.000000                 0.000000   \n",
       "3       0.034746    6.824908  1.000000                 0.000000   \n",
       "4       0.039742    0.000000  0.000000                 0.000000   \n",
       "...          ...         ...       ...                      ...   \n",
       "63842   0.029711   12.990264  1.000000                 0.000000   \n",
       "63843   0.032281   22.241373  0.000000                 0.000000   \n",
       "63844   0.010678    4.350457  0.817185                 0.000000   \n",
       "63845   0.012092   33.153517  0.589289                 0.000000   \n",
       "63846   0.019281   73.590030  0.000000                 0.139313   \n",
       "\n",
       "       visitortype_Returning_Visitor  \n",
       "0                           1.000000  \n",
       "1                           1.000000  \n",
       "2                           1.000000  \n",
       "3                           1.000000  \n",
       "4                           1.000000  \n",
       "...                              ...  \n",
       "63842                       1.000000  \n",
       "63843                       1.000000  \n",
       "63844                       1.000000  \n",
       "63845                       1.000000  \n",
       "63846                       0.860687  \n",
       "\n",
       "[63847 rows x 9 columns]"
      ]
     },
     "execution_count": 20,
     "metadata": {},
     "output_type": "execute_result"
    }
   ],
   "source": [
    "feature_selected= ['administrative', 'productrelated', 'productrelated_duration', 'bouncerates', 'exitrates', 'pagevalues', 'weekend', 'visitortype_New_Visitor', 'visitortype_Returning_Visitor']\n",
    "X_train=X_train[feature_selected]\n",
    "X_train"
   ]
  },
  {
   "cell_type": "markdown",
   "id": "4c981ccb",
   "metadata": {},
   "source": [
    "### Make Cross Validation function\n"
   ]
  },
  {
   "cell_type": "code",
   "execution_count": 21,
   "id": "3e9c35a1",
   "metadata": {},
   "outputs": [
    {
     "data": {
      "text/plain": [
       "make_scorer(fbeta_score, beta=2)"
      ]
     },
     "execution_count": 21,
     "metadata": {},
     "output_type": "execute_result"
    }
   ],
   "source": [
    "f2_scorer = make_scorer(fbeta_score, beta=2)\n",
    "f2_scorer"
   ]
  },
  {
   "cell_type": "code",
   "execution_count": 22,
   "id": "50ff3692",
   "metadata": {},
   "outputs": [],
   "source": [
    "scoring = f2_scorer"
   ]
  },
  {
   "cell_type": "code",
   "execution_count": 23,
   "id": "d5b785cf",
   "metadata": {},
   "outputs": [],
   "source": [
    "kfold = StratifiedKFold(n_splits=10, random_state=14, shuffle=True)"
   ]
  },
  {
   "cell_type": "code",
   "execution_count": 24,
   "id": "be6326af",
   "metadata": {},
   "outputs": [],
   "source": [
    "def grid_model(x, y , model , param):\n",
    "    grid=GridSearchCV(estimator=model, param_grid=param, scoring=scoring, cv=kfold, n_jobs=-1)\n",
    "    grid.fit(x, y)\n",
    "    print(\"Best Score: %f use parameters: %s\" % (grid.best_score_, grid.best_params_))"
   ]
  },
  {
   "cell_type": "code",
   "execution_count": 25,
   "id": "d4b3aa1f",
   "metadata": {},
   "outputs": [],
   "source": [
    "def cross_validation(x, y, model):\n",
    "    result= cross_val_score(model, x, y, cv=kfold, scoring=scoring, n_jobs=-1)\n",
    "    print(\"Score: %f\" % result.mean())"
   ]
  },
  {
   "cell_type": "markdown",
   "id": "00f7f2af",
   "metadata": {},
   "source": [
    "#### Logistic Regression Model"
   ]
  },
  {
   "cell_type": "code",
   "execution_count": 26,
   "id": "f2730bb3",
   "metadata": {},
   "outputs": [
    {
     "data": {
      "text/plain": [
       "LogisticRegression()"
      ]
     },
     "execution_count": 26,
     "metadata": {},
     "output_type": "execute_result"
    }
   ],
   "source": [
    "logr = LogisticRegression()\n",
    "logr.fit(X_train, y_train)"
   ]
  },
  {
   "cell_type": "code",
   "execution_count": 27,
   "id": "4ec76412",
   "metadata": {},
   "outputs": [
    {
     "name": "stdout",
     "output_type": "stream",
     "text": [
      "Score: 0.816042\n"
     ]
    }
   ],
   "source": [
    "cross_validation(X_train, y_train, logr)"
   ]
  },
  {
   "cell_type": "code",
   "execution_count": 126,
   "id": "41934509",
   "metadata": {},
   "outputs": [
    {
     "data": {
      "text/plain": [
       "0    0.7937\n",
       "1    0.2063\n",
       "dtype: float64"
      ]
     },
     "execution_count": 126,
     "metadata": {},
     "output_type": "execute_result"
    }
   ],
   "source": [
    "y_test = logr.predict(x_test)\n",
    "y_test = pd.Series(y_test)\n",
    "y_test.value_counts(normalize=True)"
   ]
  },
  {
   "cell_type": "markdown",
   "id": "8449271d",
   "metadata": {},
   "source": [
    "#### KNeighbors Classifier Model"
   ]
  },
  {
   "cell_type": "code",
   "execution_count": 31,
   "id": "73e9f682",
   "metadata": {},
   "outputs": [
    {
     "data": {
      "text/plain": [
       "KNeighborsClassifier()"
      ]
     },
     "execution_count": 31,
     "metadata": {},
     "output_type": "execute_result"
    }
   ],
   "source": [
    "knn = neighbors.KNeighborsClassifier()\n",
    "\n",
    "# fit the model\n",
    "knn.fit(X_train, y_train)"
   ]
  },
  {
   "cell_type": "code",
   "execution_count": 32,
   "id": "efba6bc9",
   "metadata": {},
   "outputs": [
    {
     "data": {
      "text/plain": [
       "0    0.7447\n",
       "1    0.2553\n",
       "dtype: float64"
      ]
     },
     "execution_count": 32,
     "metadata": {},
     "output_type": "execute_result"
    }
   ],
   "source": [
    "y_test = knn.predict(x_test)\n",
    "y_test = pd.Series(y_test)\n",
    "y_test.value_counts(normalize=True)"
   ]
  },
  {
   "cell_type": "markdown",
   "id": "3e548112",
   "metadata": {},
   "source": [
    "#### Linear Discriminant Analysis Model"
   ]
  },
  {
   "cell_type": "code",
   "execution_count": 33,
   "id": "53e8882c",
   "metadata": {},
   "outputs": [
    {
     "name": "stdout",
     "output_type": "stream",
     "text": [
      "Best Score: 0.760215 use parameters: {'solver': 'svd'}\n"
     ]
    }
   ],
   "source": [
    "param_ld=dict(solver=['svd', 'lsqr', 'eigen'])\n",
    "model_ld=LinearDiscriminantAnalysis()\n",
    "grid_model(X_train, y_train, model_ld, param_ld)"
   ]
  },
  {
   "cell_type": "code",
   "execution_count": 34,
   "id": "b010b75c",
   "metadata": {},
   "outputs": [
    {
     "data": {
      "text/plain": [
       "0    0.7869\n",
       "1    0.2131\n",
       "dtype: float64"
      ]
     },
     "execution_count": 34,
     "metadata": {},
     "output_type": "execute_result"
    }
   ],
   "source": [
    "model_ld=LinearDiscriminantAnalysis(solver='svd')\n",
    "model_ld.fit(X_train, y_train)\n",
    "y_test = model_ld.predict(x_test)\n",
    "y_test = pd.Series(y_test)\n",
    "y_test.value_counts(normalize=True)"
   ]
  },
  {
   "cell_type": "markdown",
   "id": "5d6aefba",
   "metadata": {},
   "source": [
    "#### Random Forest Model"
   ]
  },
  {
   "cell_type": "code",
   "execution_count": 130,
   "id": "1bd925eb",
   "metadata": {},
   "outputs": [
    {
     "name": "stdout",
     "output_type": "stream",
     "text": [
      "Best Score: 0.944355 use parameters: {'n_estimators': 80}\n"
     ]
    }
   ],
   "source": [
    "param_randomforest=dict(n_estimators=range(10,100,10))\n",
    "model_randomforest=RandomForestClassifier(class_weight='balanced_subsample')\n",
    "grid_model(X_train, y_train, model_randomforest, param_randomforest)"
   ]
  },
  {
   "cell_type": "code",
   "execution_count": 35,
   "id": "571bb272",
   "metadata": {},
   "outputs": [
    {
     "data": {
      "text/plain": [
       "0    0.7971\n",
       "1    0.2029\n",
       "dtype: float64"
      ]
     },
     "execution_count": 35,
     "metadata": {},
     "output_type": "execute_result"
    }
   ],
   "source": [
    "final_randomforest=RandomForestClassifier(n_estimators=90, class_weight='balanced_subsample')\n",
    "final_randomforest.fit(X_train, y_train)\n",
    "y_test = final_randomforest.predict(x_test)\n",
    "y_test = pd.Series(y_test)\n",
    "y_test.value_counts(normalize=True)"
   ]
  },
  {
   "cell_type": "markdown",
   "id": "9d8ff3c8",
   "metadata": {},
   "source": [
    "#### GaussianNB (Naive Bayes) Model"
   ]
  },
  {
   "cell_type": "code",
   "execution_count": 37,
   "id": "9d7bddaf",
   "metadata": {},
   "outputs": [
    {
     "name": "stdout",
     "output_type": "stream",
     "text": [
      "Score: 0.747052\n"
     ]
    }
   ],
   "source": [
    "model_nb=GaussianNB()\n",
    "cross_validation(X_train, y_train, model_nb)"
   ]
  },
  {
   "cell_type": "code",
   "execution_count": 38,
   "id": "48741c37",
   "metadata": {},
   "outputs": [
    {
     "data": {
      "text/plain": [
       "0    0.692\n",
       "1    0.308\n",
       "dtype: float64"
      ]
     },
     "execution_count": 38,
     "metadata": {},
     "output_type": "execute_result"
    }
   ],
   "source": [
    "model_nb.fit(X_train, y_train)\n",
    "y_test = model_nb.predict(x_test)\n",
    "y_test = pd.Series(y_test)\n",
    "y_test.value_counts(normalize=True)"
   ]
  },
  {
   "cell_type": "markdown",
   "id": "815527bc",
   "metadata": {},
   "source": [
    "#### Decision Tree(CART) Model"
   ]
  },
  {
   "cell_type": "code",
   "execution_count": 138,
   "id": "fe6d8481",
   "metadata": {},
   "outputs": [
    {
     "name": "stdout",
     "output_type": "stream",
     "text": [
      "Best Score: 0.945095 use parameters: {'max_depth': 4}\n"
     ]
    }
   ],
   "source": [
    "model_cart=DecisionTreeClassifier(class_weight='balanced')\n",
    "param_cart=dict(max_depth=range(2,10,1))\n",
    "grid_model(X_train, y_train, model_cart, param_cart)"
   ]
  },
  {
   "cell_type": "code",
   "execution_count": 40,
   "id": "a9e430c9",
   "metadata": {},
   "outputs": [
    {
     "data": {
      "text/plain": [
       "0    0.7516\n",
       "1    0.2484\n",
       "dtype: float64"
      ]
     },
     "execution_count": 40,
     "metadata": {},
     "output_type": "execute_result"
    }
   ],
   "source": [
    "model_cart=DecisionTreeClassifier(class_weight='balanced', max_depth=4)\n",
    "model_cart.fit(X_train, y_train)\n",
    "y_test = model_cart.predict(x_test)\n",
    "y_test = pd.Series(y_test)\n",
    "y_test.value_counts(normalize=True)"
   ]
  },
  {
   "cell_type": "markdown",
   "id": "8c733457",
   "metadata": {},
   "source": [
    "#### Evaluate Random Forest Model"
   ]
  },
  {
   "cell_type": "code",
   "execution_count": 131,
   "id": "7f173ed2",
   "metadata": {},
   "outputs": [
    {
     "data": {
      "text/plain": [
       "<sklearn.metrics._plot.confusion_matrix.ConfusionMatrixDisplay at 0x7fc9384d5670>"
      ]
     },
     "execution_count": 131,
     "metadata": {},
     "output_type": "execute_result"
    },
    {
     "data": {
      "image/png": "[encoded data removed]",
      "text/plain": [
       "<Figure size 432x288 with 2 Axes>"
      ]
     },
     "metadata": {
      "needs_background": "light"
     },
     "output_type": "display_data"
    }
   ],
   "source": [
    "final_randomforest=RandomForestClassifier(n_estimators=90, class_weight='balanced_subsample')\n",
    "final_randomforest.fit(X_train, y_train)\n",
    "plot_confusion_matrix(final_randomforest, x_test, y_test, cmap=plt.cm.plasma)"
   ]
  },
  {
   "cell_type": "markdown",
   "id": "5ead1fa8",
   "metadata": {},
   "source": [
    "#### Evaluate LinearDiscriminantAnalysis Model"
   ]
  },
  {
   "cell_type": "code",
   "execution_count": 42,
   "id": "7520cdb5",
   "metadata": {},
   "outputs": [
    {
     "data": {
      "text/plain": [
       "<sklearn.metrics._plot.confusion_matrix.ConfusionMatrixDisplay at 0x7fd49380d6d0>"
      ]
     },
     "execution_count": 42,
     "metadata": {},
     "output_type": "execute_result"
    },
    {
     "data": {
      "image/png": "[encoded data removed]",
      "text/plain": [
       "<Figure size 432x288 with 2 Axes>"
      ]
     },
     "metadata": {
      "needs_background": "light"
     },
     "output_type": "display_data"
    }
   ],
   "source": [
    "model_ld=LinearDiscriminantAnalysis(solver='svd')\n",
    "model_ld.fit(X_train, y_train)\n",
    "plot_confusion_matrix(model_ld, x_test, y_test, cmap=plt.cm.plasma)"
   ]
  },
  {
   "cell_type": "markdown",
   "id": "c4a42c26",
   "metadata": {},
   "source": [
    "#### Evaluate LogisticRegression Model"
   ]
  },
  {
   "cell_type": "code",
   "execution_count": 43,
   "id": "7849e0d0",
   "metadata": {},
   "outputs": [
    {
     "data": {
      "text/plain": [
       "<sklearn.metrics._plot.confusion_matrix.ConfusionMatrixDisplay at 0x7fd4c1141a90>"
      ]
     },
     "execution_count": 43,
     "metadata": {},
     "output_type": "execute_result"
    },
    {
     "data": {
      "image/png": "[encoded data removed]",
      "text/plain": [
       "<Figure size 432x288 with 2 Axes>"
      ]
     },
     "metadata": {
      "needs_background": "light"
     },
     "output_type": "display_data"
    }
   ],
   "source": [
    "model_ld=LogisticRegression()\n",
    "model_ld.fit(X_train, y_train)\n",
    "plot_confusion_matrix(model_ld, x_test, y_test, cmap=plt.cm.plasma)"
   ]
  },
  {
   "cell_type": "markdown",
   "id": "cd9f3726",
   "metadata": {},
   "source": [
    "#### Evaluate GaussianNB (Naive Bayes) Model"
   ]
  },
  {
   "cell_type": "code",
   "execution_count": 44,
   "id": "3343c518",
   "metadata": {},
   "outputs": [
    {
     "data": {
      "text/plain": [
       "<sklearn.metrics._plot.confusion_matrix.ConfusionMatrixDisplay at 0x7fd480bc1a60>"
      ]
     },
     "execution_count": 44,
     "metadata": {},
     "output_type": "execute_result"
    },
    {
     "data": {
      "image/png": "[encoded data removed]",
      "text/plain": [
       "<Figure size 432x288 with 2 Axes>"
      ]
     },
     "metadata": {
      "needs_background": "light"
     },
     "output_type": "display_data"
    }
   ],
   "source": [
    "model_nb=GaussianNB()\n",
    "model_nb.fit(X_train, y_train)\n",
    "plot_confusion_matrix(model_nb, x_test, y_test, cmap=plt.cm.plasma)"
   ]
  },
  {
   "cell_type": "markdown",
   "id": "54e16415",
   "metadata": {},
   "source": [
    "#### Evaluate Decision Tree(CART) Model"
   ]
  },
  {
   "cell_type": "code",
   "execution_count": 45,
   "id": "bfaa6e75",
   "metadata": {},
   "outputs": [
    {
     "data": {
      "text/plain": [
       "<sklearn.metrics._plot.confusion_matrix.ConfusionMatrixDisplay at 0x7fd472851220>"
      ]
     },
     "execution_count": 45,
     "metadata": {},
     "output_type": "execute_result"
    },
    {
     "data": {
      "image/png": "[encoded data removed]",
      "text/plain": [
       "<Figure size 432x288 with 2 Axes>"
      ]
     },
     "metadata": {
      "needs_background": "light"
     },
     "output_type": "display_data"
    }
   ],
   "source": [
    "model_cart=DecisionTreeClassifier(class_weight='balanced', max_depth=4)\n",
    "model_cart.fit(X_train, y_train)\n",
    "plot_confusion_matrix(model_cart, x_test, y_test, cmap=plt.cm.plasma)"
   ]
  },
  {
   "cell_type": "code",
   "execution_count": null,
   "id": "f8da4e7f",
   "metadata": {},
   "outputs": [],
   "source": []
  }
 ],
 "metadata": {
  "kernelspec": {
   "display_name": "Python 3",
   "language": "python",
   "name": "python3"
  },
  "language_info": {
   "codemirror_mode": {
    "name": "ipython",
    "version": 3
   },
   "file_extension": ".py",
   "mimetype": "text/x-python",
   "name": "python",
   "nbconvert_exporter": "python",
   "pygments_lexer": "ipython3",
   "version": "3.8.8"
  }
 },
 "nbformat": 4,
 "nbformat_minor": 5
}
