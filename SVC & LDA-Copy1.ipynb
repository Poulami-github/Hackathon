{
 "cells": [
  {
   "cell_type": "code",
   "execution_count": 1,
   "id": "333e286c",
   "metadata": {},
   "outputs": [],
   "source": [
    "import sklearn\n",
    "import pandas as pd\n",
    "import numpy as np\n",
    "import matplotlib.pyplot as plt\n",
    "from sklearn.model_selection import train_test_split\n",
    "from sklearn.metrics import accuracy_score, confusion_matrix, f1_score\n",
    "from sklearn.preprocessing import StandardScaler\n",
    "from sklearn.svm import SVC\n",
    "from imblearn.over_sampling import SMOTE\n",
    "from imblearn.under_sampling import TomekLinks\n",
    "from sklearn.metrics import accuracy_score"
   ]
  },
  {
   "cell_type": "code",
   "execution_count": 2,
   "id": "4a24e9e9",
   "metadata": {},
   "outputs": [],
   "source": [
    "# Read the training and test csv files and convert them to a dataframe each\n",
    "data = pd.read_csv('train.csv')\n",
    "data_test = pd.read_csv('test.csv')"
   ]
  },
  {
   "cell_type": "code",
   "execution_count": 3,
   "id": "a153ae3d",
   "metadata": {},
   "outputs": [],
   "source": [
    "# Cleaning training data\n",
    "# Replace special character * from columns traffictype, browser, operatingsystems\n",
    "data['traffictype'] = data['traffictype'].replace(\"*\", 2)\n",
    "data['traffictype'] = pd.to_numeric(data['traffictype'])\n",
    "data['browser'] = data['browser'].replace(\"*\", 2)\n",
    "data['browser'] = pd.to_numeric(data['browser'])\n",
    "data['operatingsystems'] = data['operatingsystems'].replace(\"*\", 2)\n",
    "data['operatingsystems'] = pd.to_numeric(data['operatingsystems'])\n",
    "\n",
    "# Convert the column - weekend to integer from boolean value\n",
    "data['weekend'] = data['weekend'].astype(int)\n",
    "\n",
    "# Convert the categorical column month to numeric representation of months.\n",
    "d = dict((v,k) for k,v in zip(range(1, 13), data.month.unique()))\n",
    "# create column\n",
    "data['month'] = data['month'].map(d)"
   ]
  },
  {
   "cell_type": "code",
   "execution_count": 4,
   "id": "be68ed58",
   "metadata": {},
   "outputs": [],
   "source": [
    "# The feature columns are derived in X and the target column revenue is derived in y.\n",
    "X = data.drop(columns=['revenue']).copy()\n",
    "y = data['revenue'].copy()\n",
    "encoded_data = pd.get_dummies(X)"
   ]
  },
  {
   "cell_type": "code",
   "execution_count": 5,
   "id": "81ed7b08",
   "metadata": {},
   "outputs": [
    {
     "name": "stdout",
     "output_type": "stream",
     "text": [
      "Highest allowed 0.18820489476478885\n",
      "Lowest allowed -0.10359015769414104\n",
      "count    40000.000000\n",
      "mean         0.035407\n",
      "std          0.029742\n",
      "min          0.000000\n",
      "25%          0.013389\n",
      "50%          0.025000\n",
      "75%          0.050000\n",
      "max          0.100000\n",
      "Name: exitrates, dtype: float64\n",
      "Highest allowed 0.16756717675784605\n",
      "Lowest allowed -0.12362973410874561\n",
      "count    40000.000000\n",
      "mean         0.010520\n",
      "std          0.014172\n",
      "min          0.000000\n",
      "25%          0.000000\n",
      "50%          0.003304\n",
      "75%          0.016667\n",
      "max          0.040000\n",
      "Name: bouncerates, dtype: float64\n",
      "Highest allowed 59.6269001904745\n",
      "Lowest allowed -46.63697372849511\n",
      "count    40000.000000\n",
      "mean         2.114995\n",
      "std          3.915794\n",
      "min          0.000000\n",
      "25%          0.000000\n",
      "50%          0.000000\n",
      "75%          0.000000\n",
      "max         10.000000\n",
      "Name: pagevalues, dtype: float64\n"
     ]
    }
   ],
   "source": [
    "# outliers detection and capping:\n",
    "\n",
    "print(\"Highest allowed\",encoded_data['exitrates'].mean() + 3*encoded_data['exitrates'].std())\n",
    "print(\"Lowest allowed\",encoded_data['exitrates'].mean() - 3*encoded_data['exitrates'].std())\n",
    "\n",
    "upper_limit= encoded_data['exitrates'].mean() + 3*encoded_data['exitrates'].std()\n",
    "lower_limit=encoded_data['exitrates'].mean() - 3*encoded_data['exitrates'].std()\n",
    "\n",
    "encoded_data['exitrates'] = np.where(\n",
    "    encoded_data['exitrates']>.10,\n",
    "    .10,\n",
    "    np.where(\n",
    "        encoded_data['exitrates']<lower_limit,\n",
    "        lower_limit,\n",
    "        encoded_data['exitrates']\n",
    "    )\n",
    ")\n",
    "\n",
    "print(encoded_data['exitrates'].describe())\n",
    "\n",
    "\n",
    "\n",
    "\n",
    "\n",
    "print(\"Highest allowed\",encoded_data['bouncerates'].mean() + 3*encoded_data['bouncerates'].std())\n",
    "print(\"Lowest allowed\",encoded_data['bouncerates'].mean() - 3*encoded_data['bouncerates'].std())\n",
    "\n",
    "upper_limit= encoded_data['bouncerates'].mean() + 3*encoded_data['bouncerates'].std()\n",
    "lower_limit=encoded_data['bouncerates'].mean() - 3*encoded_data['bouncerates'].std()\n",
    "\n",
    "encoded_data['bouncerates'] = np.where(\n",
    "    encoded_data['bouncerates']>.04,\n",
    "    .04,\n",
    "    np.where(\n",
    "        encoded_data['bouncerates']<lower_limit,\n",
    "        lower_limit,\n",
    "        encoded_data['bouncerates']\n",
    "    )\n",
    ")\n",
    "\n",
    "print(encoded_data['bouncerates'].describe())\n",
    "\n",
    "\n",
    "\n",
    "\n",
    "\n",
    "print(\"Highest allowed\",encoded_data['pagevalues'].mean() + 3*encoded_data['pagevalues'].std())\n",
    "print(\"Lowest allowed\",encoded_data['pagevalues'].mean() - 3*encoded_data['pagevalues'].std())\n",
    "\n",
    "upper_limit= encoded_data['pagevalues'].mean() + 3*encoded_data['pagevalues'].std()\n",
    "lower_limit=encoded_data['pagevalues'].mean() - 3*encoded_data['pagevalues'].std()\n",
    "\n",
    "encoded_data['pagevalues'] = np.where(\n",
    "    encoded_data['pagevalues']>10,\n",
    "    10,\n",
    "    np.where(\n",
    "        encoded_data['pagevalues']<lower_limit,\n",
    "        lower_limit,\n",
    "        encoded_data['pagevalues']\n",
    "    )\n",
    ")\n",
    "\n",
    "print(encoded_data['pagevalues'].describe())\n",
    "\n",
    "\n",
    "encoded_data['pagevalues'] = np.where(\n",
    "    encoded_data['pagevalues']>10,\n",
    "    10,\n",
    "    np.where(\n",
    "        encoded_data['pagevalues']<lower_limit,\n",
    "        lower_limit,\n",
    "        encoded_data['pagevalues']\n",
    "    )\n",
    ")"
   ]
  },
  {
   "cell_type": "markdown",
   "id": "9bbfcf08",
   "metadata": {},
   "source": [
    "#### Model  - SVC"
   ]
  },
  {
   "cell_type": "code",
   "execution_count": 6,
   "id": "4620f78e",
   "metadata": {},
   "outputs": [],
   "source": [
    "# Using Oversampling\n",
    "oversample = SMOTE(random_state = 0)\n",
    "X_os, y_os = oversample.fit_resample(encoded_data, y)"
   ]
  },
  {
   "cell_type": "code",
   "execution_count": 7,
   "id": "cda790da",
   "metadata": {},
   "outputs": [
    {
     "data": {
      "text/plain": [
       "SVC()"
      ]
     },
     "execution_count": 7,
     "metadata": {},
     "output_type": "execute_result"
    }
   ],
   "source": [
    "svc_over_sample=SVC()\n",
    "\n",
    "svc_over_sample.fit(X_os, y_os)"
   ]
  },
  {
   "cell_type": "code",
   "execution_count": null,
   "id": "142f601e",
   "metadata": {},
   "outputs": [],
   "source": [
    "# define the undersampling method\n",
    "undersample = TomekLinks()\n",
    "\n",
    "# transform the dataset\n",
    "X_us, y_us = undersample.fit_resample(encoded_data, y)"
   ]
  },
  {
   "cell_type": "code",
   "execution_count": null,
   "id": "d9416eba",
   "metadata": {},
   "outputs": [],
   "source": [
    "svc_under_sample=SVC()\n",
    "svc_under_sample.fit(X_us, y_us)"
   ]
  },
  {
   "cell_type": "code",
   "execution_count": 8,
   "id": "93c3637b",
   "metadata": {},
   "outputs": [
    {
     "name": "stdout",
     "output_type": "stream",
     "text": [
      "Accuracy: 0.532 (0.002)\n"
     ]
    }
   ],
   "source": [
    "from sklearn.model_selection import KFold\n",
    "from sklearn.model_selection import cross_val_score\n",
    "\n",
    "cv = KFold(n_splits=4, random_state=1, shuffle=True)\n",
    "# create model\n",
    "# evaluate model\n",
    "scores = cross_val_score(svc_over_sample, X_os, y_os, scoring='accuracy', cv=cv, n_jobs=-1)\n",
    "# report performance\n",
    "print('Accuracy: %.3f (%.3f)' % (np.mean(scores), np.std(scores)))"
   ]
  },
  {
   "cell_type": "code",
   "execution_count": 9,
   "id": "6a6dc891",
   "metadata": {},
   "outputs": [
    {
     "name": "stdout",
     "output_type": "stream",
     "text": [
      "Accuracy: 0.190 (0.005)\n"
     ]
    }
   ],
   "source": [
    "scores = cross_val_score(svc_over_sample, X_os, y_os, scoring='f1', cv=cv, n_jobs=-1)\n",
    "# report performance\n",
    "print('Accuracy: %.3f (%.3f)' % (np.mean(scores), np.std(scores)))"
   ]
  },
  {
   "cell_type": "code",
   "execution_count": 12,
   "id": "2a7282ae",
   "metadata": {},
   "outputs": [
    {
     "name": "stdout",
     "output_type": "stream",
     "text": [
      "Accuracy: 0.830 (0.003)\n"
     ]
    }
   ],
   "source": [
    "from sklearn.model_selection import KFold\n",
    "from sklearn.model_selection import cross_val_score\n",
    "\n",
    "cv = KFold(n_splits=4, random_state=1, shuffle=True)\n",
    "# create model\n",
    "# evaluate model\n",
    "scores = cross_val_score(svc_under_sample, X_us, y_us, scoring='accuracy', cv=cv, n_jobs=-1)\n",
    "# report performance\n",
    "print('Accuracy: %.3f (%.3f)' % (np.mean(scores), np.std(scores)))"
   ]
  },
  {
   "cell_type": "code",
   "execution_count": null,
   "id": "552d5c15",
   "metadata": {},
   "outputs": [],
   "source": [
    "scores = cross_val_score(svc_under_sample, X_us, y_us, scoring='f1', cv=cv, n_jobs=-1)\n",
    "# report performance\n",
    "print('Accuracy: %.3f (%.3f)' % (np.mean(scores), np.std(scores)))"
   ]
  },
  {
   "cell_type": "code",
   "execution_count": 10,
   "id": "772ca077",
   "metadata": {},
   "outputs": [],
   "source": [
    "data_test['traffictype'] = data_test['traffictype'].replace(\"*\", 4)\n",
    "data_test['traffictype'] = pd.to_numeric(data_test['traffictype'])\n",
    "data_test['browser'] = data_test['browser'].replace(\"*\", 2)\n",
    "data_test['browser'] = pd.to_numeric(data_test['browser'])\n",
    "data_test['operatingsystems'] = data_test['operatingsystems'].replace(\"*\", 2)\n",
    "data_test['operatingsystems'] = pd.to_numeric(data_test['operatingsystems'])\n",
    "data_test['weekend'] = data_test['weekend'].astype(int)\n",
    "data_test.month.value_counts()\n",
    "d = dict((v,k) for k,v in zip(range(1, 13), data_test.month.unique()))\n",
    "# create column\n",
    "data_test['month'] = data_test['month'].map(d)"
   ]
  },
  {
   "cell_type": "code",
   "execution_count": 11,
   "id": "eb4eeee3",
   "metadata": {},
   "outputs": [],
   "source": [
    "X1 = pd.get_dummies(data_test)"
   ]
  },
  {
   "cell_type": "code",
   "execution_count": 12,
   "id": "75e87cb5",
   "metadata": {},
   "outputs": [
    {
     "data": {
      "text/plain": [
       "0    0.9364\n",
       "1    0.0636\n",
       "dtype: float64"
      ]
     },
     "execution_count": 12,
     "metadata": {},
     "output_type": "execute_result"
    }
   ],
   "source": [
    "y_pred_test = svc_over_sample.predict(X1)\n",
    "y_pred_test = pd.Series(y_pred_test)\n",
    "y_pred_test.value_counts(normalize=True)"
   ]
  },
  {
   "cell_type": "code",
   "execution_count": 33,
   "id": "377aa8cf",
   "metadata": {},
   "outputs": [
    {
     "data": {
      "text/plain": [
       "0    1.0\n",
       "dtype: float64"
      ]
     },
     "execution_count": 33,
     "metadata": {},
     "output_type": "execute_result"
    }
   ],
   "source": [
    "y_pred_test = svc_under_sample.predict(X1)\n",
    "y_pred_test = pd.Series(y_pred_test)\n",
    "y_pred_test.value_counts(normalize=True)"
   ]
  },
  {
   "cell_type": "markdown",
   "id": "50e82fe5",
   "metadata": {},
   "source": [
    "#### LDA"
   ]
  },
  {
   "cell_type": "code",
   "execution_count": 16,
   "id": "c686627a",
   "metadata": {},
   "outputs": [],
   "source": [
    "from sklearn.discriminant_analysis import LinearDiscriminantAnalysis as LDA\n",
    "lda = LDA()\n",
    "X_lda = lda.fit_transform(encoded_data,y)"
   ]
  },
  {
   "cell_type": "code",
   "execution_count": 17,
   "id": "2eb70644",
   "metadata": {},
   "outputs": [
    {
     "name": "stdout",
     "output_type": "stream",
     "text": [
      "Mean Accuracy: 0.879 (0.002)\n"
     ]
    }
   ],
   "source": [
    "from sklearn.model_selection import cross_val_score\n",
    "from sklearn.model_selection import RepeatedStratifiedKFold\n",
    "\n",
    "cv = RepeatedStratifiedKFold(n_splits=4, n_repeats=3, random_state=1)\n",
    "# evaluate model\n",
    "scores = cross_val_score(lda, encoded_data, y, scoring='accuracy', cv=cv, n_jobs=-1)\n",
    "# summarize result\n",
    "print('Mean Accuracy: %.3f (%.3f)' % (np.mean(scores), np.std(scores)))"
   ]
  },
  {
   "cell_type": "code",
   "execution_count": 18,
   "id": "38890914",
   "metadata": {},
   "outputs": [
    {
     "name": "stdout",
     "output_type": "stream",
     "text": [
      "Mean Accuracy: 0.660 (0.006)\n"
     ]
    }
   ],
   "source": [
    "scores = cross_val_score(lda, encoded_data, y, scoring='f1', cv=cv, n_jobs=-1)\n",
    "# summarize result\n",
    "print('Mean Accuracy: %.3f (%.3f)' % (np.mean(scores), np.std(scores)))"
   ]
  },
  {
   "cell_type": "code",
   "execution_count": 59,
   "id": "2ad302bf",
   "metadata": {},
   "outputs": [
    {
     "data": {
      "text/plain": [
       "0    0.8058\n",
       "1    0.1942\n",
       "dtype: float64"
      ]
     },
     "execution_count": 59,
     "metadata": {},
     "output_type": "execute_result"
    }
   ],
   "source": [
    "y_pred_test = lda.predict(X1)\n",
    "y_pred_test = pd.Series(y_pred_test)\n",
    "y_pred_test.value_counts(normalize=True)"
   ]
  },
  {
   "cell_type": "code",
   "execution_count": 1,
   "id": "ea02916e",
   "metadata": {},
   "outputs": [
    {
     "ename": "NameError",
     "evalue": "name 'cross_val_score' is not defined",
     "output_type": "error",
     "traceback": [
      "\u001b[0;31m---------------------------------------------------------------------------\u001b[0m",
      "\u001b[0;31mNameError\u001b[0m                                 Traceback (most recent call last)",
      "\u001b[0;32m<ipython-input-1-c685adb438ff>\u001b[0m in \u001b[0;36m<module>\u001b[0;34m\u001b[0m\n\u001b[0;32m----> 1\u001b[0;31m \u001b[0mscores\u001b[0m \u001b[0;34m=\u001b[0m \u001b[0mcross_val_score\u001b[0m\u001b[0;34m(\u001b[0m\u001b[0mlda\u001b[0m\u001b[0;34m,\u001b[0m \u001b[0mencoded_data\u001b[0m\u001b[0;34m,\u001b[0m \u001b[0my\u001b[0m\u001b[0;34m,\u001b[0m \u001b[0mscoring\u001b[0m\u001b[0;34m=\u001b[0m\u001b[0;34m'f1'\u001b[0m\u001b[0;34m,\u001b[0m \u001b[0mcv\u001b[0m\u001b[0;34m=\u001b[0m\u001b[0;36m7\u001b[0m\u001b[0;34m,\u001b[0m \u001b[0mn_jobs\u001b[0m\u001b[0;34m=\u001b[0m\u001b[0;34m-\u001b[0m\u001b[0;36m1\u001b[0m\u001b[0;34m)\u001b[0m\u001b[0;34m\u001b[0m\u001b[0;34m\u001b[0m\u001b[0m\n\u001b[0m\u001b[1;32m      2\u001b[0m \u001b[0;31m# summarize result\u001b[0m\u001b[0;34m\u001b[0m\u001b[0;34m\u001b[0m\u001b[0;34m\u001b[0m\u001b[0m\n\u001b[1;32m      3\u001b[0m \u001b[0mprint\u001b[0m\u001b[0;34m(\u001b[0m\u001b[0;34m'Mean Accuracy: %.3f (%.3f)'\u001b[0m \u001b[0;34m%\u001b[0m \u001b[0;34m(\u001b[0m\u001b[0mnp\u001b[0m\u001b[0;34m.\u001b[0m\u001b[0mmean\u001b[0m\u001b[0;34m(\u001b[0m\u001b[0mscores\u001b[0m\u001b[0;34m)\u001b[0m\u001b[0;34m,\u001b[0m \u001b[0mnp\u001b[0m\u001b[0;34m.\u001b[0m\u001b[0mstd\u001b[0m\u001b[0;34m(\u001b[0m\u001b[0mscores\u001b[0m\u001b[0;34m)\u001b[0m\u001b[0;34m)\u001b[0m\u001b[0;34m)\u001b[0m\u001b[0;34m\u001b[0m\u001b[0;34m\u001b[0m\u001b[0m\n",
      "\u001b[0;31mNameError\u001b[0m: name 'cross_val_score' is not defined"
     ]
    }
   ],
   "source": [
    "scores = cross_val_score(lda, encoded_data, y, scoring='f1', cv=cv, n_jobs=-1)\n",
    "# summarize result\n",
    "print('Mean Accuracy: %.3f (%.3f)' % (np.mean(scores), np.std(scores)))"
   ]
  },
  {
   "cell_type": "code",
   "execution_count": null,
   "id": "2495b7ea",
   "metadata": {},
   "outputs": [],
   "source": []
  }
 ],
 "metadata": {
  "kernelspec": {
   "display_name": "Python 3",
   "language": "python",
   "name": "python3"
  },
  "language_info": {
   "codemirror_mode": {
    "name": "ipython",
    "version": 3
   },
   "file_extension": ".py",
   "mimetype": "text/x-python",
   "name": "python",
   "nbconvert_exporter": "python",
   "pygments_lexer": "ipython3",
   "version": "3.8.8"
  }
 },
 "nbformat": 4,
 "nbformat_minor": 5
}
